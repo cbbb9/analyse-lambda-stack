{
 "cells": [
  {
   "cell_type": "markdown",
   "id": "e3ffba79-40c4-4bce-b3c5-84944f1e0d98",
   "metadata": {},
   "source": [
    "# Import the .czi file"
   ]
  },
  {
   "cell_type": "code",
   "execution_count": 14,
   "id": "c510b3e6-5d50-4353-815a-916ebff5b41b",
   "metadata": {},
   "outputs": [],
   "source": [
    "from aicsimageio import AICSImage\n",
    "import pathlib\n",
    "from tkinter import filedialog as fd\n",
    "import numpy as np\n",
    "\n",
    "fileName = fd.askopenfilename(title=\"Select a File\", \n",
    "                              filetypes=[(\"CZI Files\", \"*.czi\"), (\"All Files\", \"*.*\")])\n",
    "\n",
    "cziFile = AICSImage(fileName)"
   ]
  },
  {
   "cell_type": "markdown",
   "id": "34735523-0632-46a2-b1db-64975aecd138",
   "metadata": {},
   "source": [
    "## Load the file"
   ]
  },
  {
   "cell_type": "code",
   "execution_count": 56,
   "id": "e09daa9c-5457-452a-8cdb-eb8dd2244146",
   "metadata": {},
   "outputs": [],
   "source": [
    "def loadImages(cziFile, scenes=None, timepoint=0, channels=None, z=0):\n",
    "    channels=(range(cziFile.dims.C) if channels==None else channels)\n",
    "    scenes = (range(len(cziFile.scenes)) if scenes==None else scenes)\n",
    "    files = []\n",
    "    for i in scenes:\n",
    "        cziFile.set_scene(i)\n",
    "        lazyCurrentScene = cziFile.get_image_dask_data(\"CYX\", T=timepoint, C=channels, Z=z)\n",
    "        currentScene = lazyCurrentScene.compute()\n",
    "        maskedArray = np.ma.array(currentScene)\n",
    "        files.append(maskedArray)\n",
    "    return files"
   ]
  },
  {
   "cell_type": "code",
   "execution_count": null,
   "id": "6ec1e1c3-d75e-4470-b220-3bb7b5d87881",
   "metadata": {},
   "outputs": [],
   "source": [
    "loadImages(cziFile, scenes=range(10), timepoint=3)"
   ]
  },
  {
   "cell_type": "code",
   "execution_count": null,
   "id": "69d18d2d-27a3-4e55-a75c-7695e79a1bf6",
   "metadata": {},
   "outputs": [],
   "source": []
  },
  {
   "cell_type": "code",
   "execution_count": null,
   "id": "eeb94e9b-7cef-4c72-abae-ef1d412fb60a",
   "metadata": {},
   "outputs": [],
   "source": []
  },
  {
   "cell_type": "code",
   "execution_count": null,
   "id": "7c42b580-d4ed-45bd-a924-146815e52956",
   "metadata": {},
   "outputs": [],
   "source": []
  },
  {
   "cell_type": "code",
   "execution_count": null,
   "id": "5d89848a-bfb3-4bfc-9a1a-e4a984b2d18a",
   "metadata": {},
   "outputs": [],
   "source": []
  }
 ],
 "metadata": {
  "kernelspec": {
   "display_name": "py310cforge",
   "language": "python",
   "name": "py310cforge"
  },
  "language_info": {
   "codemirror_mode": {
    "name": "ipython",
    "version": 3
   },
   "file_extension": ".py",
   "mimetype": "text/x-python",
   "name": "python",
   "nbconvert_exporter": "python",
   "pygments_lexer": "ipython3",
   "version": "3.10.16"
  }
 },
 "nbformat": 4,
 "nbformat_minor": 5
}
